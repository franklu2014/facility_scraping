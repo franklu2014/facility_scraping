{
 "cells": [
  {
   "cell_type": "code",
   "execution_count": 1,
   "metadata": {},
   "outputs": [],
   "source": [
    "import pandas as pd\n",
    "import numpy as np\n",
    "from functools import reduce\n",
    "import spacy\n",
    "import gensim\n",
    "from sklearn.metrics.pairwise import cosine_similarity\n",
    "from sklearn.feature_extraction.text import TfidfVectorizer\n",
    "from IPython.display import Image, display\n",
    "import re\n",
    "\n",
    "import requests\n",
    "from bs4 import BeautifulSoup\n",
    "import time\n",
    "import logging\n",
    "import logging.config\n",
    "import yaml\n",
    "import random\n",
    "import os\n",
    "from urllib.request import Request, urlopen\n",
    "from urllib.parse import quote_plus, urlparse, parse_qs"
   ]
  },
  {
   "cell_type": "code",
   "execution_count": 2,
   "metadata": {},
   "outputs": [],
   "source": [
    "with open('./logging.conf', 'r') as f:\n",
    "    cfg = yaml.safe_load(f.read())\n",
    "    logging.config.dictConfig(cfg)\n",
    "    \n",
    "logger = logging.getLogger('all')\n",
    "logger.info('Start logging for longterm-care facility scrapping.')"
   ]
  },
  {
   "cell_type": "code",
   "execution_count": 3,
   "metadata": {},
   "outputs": [],
   "source": [
    "USER_AGENT = 'Mozilla/5.0 (Macintosh; Intel Mac OS X 10_15_6) AppleWebKit/605.1.15 (KHTML, like Gecko) Version/14.0.2 Safari/605.1.15'\n",
    "na_str = 'N/A'\n",
    "\n",
    "url = 'https://www.seniorsadvocatebc.ca/quickfacts/location'\n",
    "mapp = {\n",
    "    'Fraser Health': 1,\n",
    "    'Interior Health': 6,\n",
    "    'Northern Health': 11,\n",
    "    'Vancouver Coastal Health': 16,\n",
    "    'Vancouver Island Health': 21\n",
    "}\n",
    "\n",
    "def getPageText(name, isMain = False):\n",
    "    if pd.isna(name):\n",
    "        return set()\n",
    "    headers = {'User-Agent': USER_AGENT}   \n",
    "    time.sleep(random.randint(1, 3))\n",
    "    if random.randint(1, 11) % 10 == 0:\n",
    "        time.sleep(random.randint(2, 4))\n",
    "    ret = na_str\n",
    "    try:\n",
    "        if isMain:\n",
    "            params = {\"qf_s\": None,\n",
    "                      'qf_hlth_auth': mapp[name],\n",
    "                      'qf_city': None,\n",
    "                      'qf_facility': None,\n",
    "                      \"textDecorations\": True, \n",
    "                      \"textFormat\": \"HTML\"} \n",
    "            page = requests.get(url, headers = headers, params = params).text\n",
    "        else:\n",
    "            page = requests.get(name, headers = headers).text\n",
    "#         with open('results.html', 'w') as f:\n",
    "#             f.write(page)\n",
    "#         f.close()\n",
    "        ret = page\n",
    "    except:\n",
    "        logger.warning(f'{name} has no match from {url}')\n",
    "    return ret"
   ]
  },
  {
   "cell_type": "code",
   "execution_count": 4,
   "metadata": {},
   "outputs": [],
   "source": [
    "def getFacilities(webpage):\n",
    "    return [(div.a.text, div.a['href']) for div in \\\n",
    "            webpage.findAll('div', {'class': 'col-md-12 qf-search-record'})]\n",
    "\n",
    "def parseAuthority(authority):\n",
    "    main_text = getPageText(authority, isMain = True)\n",
    "    main_page = BeautifulSoup(main_text)\n",
    "    locs = getFacilities(main_page)\n",
    "    anchors = main_page.findAll('ul', {'class': 'pagination'})[0].findAll(\n",
    "        lambda tag: tag.name == 'li' and tag.get('class') is None and re.findall('\\d', tag.a.text)\n",
    "    )\n",
    "    links = [anchor.a['href'] for anchor in anchors]\n",
    "    for link in links:\n",
    "        sub_page = BeautifulSoup(getPageText(link))\n",
    "        locs += getFacilities(sub_page)\n",
    "    return locs"
   ]
  },
  {
   "cell_type": "code",
   "execution_count": 7,
   "metadata": {},
   "outputs": [],
   "source": [
    "def parseTable(tbl, offset = 0):\n",
    "    tds = tbl.findAll(lambda tag: tag.name == 'td')\n",
    "    return [field.text for field in tds[offset::2]], \\\n",
    "            [data.text for data in tds[offset + 1::2]]\n",
    "\n",
    "def getLocation(url):\n",
    "    loc1 = BeautifulSoup(getPageText(url))\n",
    "    loc1_fac = loc1.findAll('table', {'class': 'table table-bordered'})[0]\n",
    "    loc1_bed = loc1.findAll('table', {'class': 'table table-bordered qf-table-beds'})[0]\n",
    "    loc1_room = loc1.findAll('table', {'class': 'table table-bordered qf-table-rooms'})[0]\n",
    "    th = loc1_fac.findAll('th')\n",
    "    head_idx, head_val = [th[0].text], [th[1].text]\n",
    "    fac_idx, fac_val = parseTable(loc1_fac, offset = 1)\n",
    "    bed_idx, bed_val = parseTable(loc1_bed)\n",
    "    room_idx, room_val = parseTable(loc1_room)\n",
    "    link_str = 'Link to web page'\n",
    "    loc1_link = loc1.findAll(lambda x: x.name == 'table' and x.th is not None and x.th.text == link_str)[0]\n",
    "    link_idx, link_val = [link_str], [loc1_link.td.a['href']]\n",
    "    vals = head_val + fac_val + bed_val + room_val + link_val\n",
    "    idxes = head_idx + fac_idx + bed_idx + room_idx + link_idx\n",
    "    return pd.DataFrame([vals], columns = idxes)"
   ]
  },
  {
   "cell_type": "code",
   "execution_count": 8,
   "metadata": {},
   "outputs": [],
   "source": [
    "def buildDf(auth):\n",
    "    df = pd.DataFrame()\n",
    "    locs = parseAuthority(authority)\n",
    "    for loc in locs:\n",
    "        url = loc[1]\n",
    "        df = df.append(getLocation(url), ignore_index = True)\n",
    "    return df"
   ]
  },
  {
   "cell_type": "code",
   "execution_count": 9,
   "metadata": {},
   "outputs": [],
   "source": [
    "res = dict()\n",
    "for authority in mapp.keys():\n",
    "    df = buildDf(authority)\n",
    "    res[authority] = df\n",
    "\n",
    "with pd.ExcelWriter('longterm-care.xlsx') as writer:\n",
    "    for name, tbl in res.items():\n",
    "        tbl.to_excel(writer, sheet_name = name, index = False)"
   ]
  },
  {
   "cell_type": "code",
   "execution_count": null,
   "metadata": {},
   "outputs": [],
   "source": []
  }
 ],
 "metadata": {
  "kernelspec": {
   "display_name": "Python 3",
   "language": "python",
   "name": "python3"
  },
  "language_info": {
   "codemirror_mode": {
    "name": "ipython",
    "version": 3
   },
   "file_extension": ".py",
   "mimetype": "text/x-python",
   "name": "python",
   "nbconvert_exporter": "python",
   "pygments_lexer": "ipython3",
   "version": "3.8.5"
  }
 },
 "nbformat": 4,
 "nbformat_minor": 4
}
